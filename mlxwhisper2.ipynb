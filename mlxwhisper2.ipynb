{
 "cells": [
  {
   "cell_type": "code",
   "execution_count": 1,
   "id": "aeb01f3b-cea9-4eb1-9dad-59158997ce6a",
   "metadata": {},
   "outputs": [
    {
     "name": "stdout",
     "output_type": "stream",
     "text": [
      "\n",
      "Processing file: /Volumes/HezeSamsung/Lectures/MAR/Rec/Tue Mar25 MAR.m4a\n"
     ]
    },
    {
     "data": {
      "application/vnd.jupyter.widget-view+json": {
       "model_id": "446a52b38a34474b9813bc30d23b8fa0",
       "version_major": 2,
       "version_minor": 0
      },
      "text/plain": [
       "Fetching 4 files:   0%|          | 0/4 [00:00<?, ?it/s]"
      ]
     },
     "metadata": {},
     "output_type": "display_data"
    },
    {
     "name": "stdout",
     "output_type": "stream",
     "text": [
      "Reached approximately 301 seconds in 'Tue Mar25 MAR.m4a'\n",
      "Reached approximately 602 seconds in 'Tue Mar25 MAR.m4a'\n",
      "Reached approximately 904 seconds in 'Tue Mar25 MAR.m4a'\n",
      "Reached approximately 1202 seconds in 'Tue Mar25 MAR.m4a'\n",
      "Reached approximately 1501 seconds in 'Tue Mar25 MAR.m4a'\n",
      "Reached approximately 1801 seconds in 'Tue Mar25 MAR.m4a'\n",
      "Reached approximately 2101 seconds in 'Tue Mar25 MAR.m4a'\n",
      "Reached approximately 2403 seconds in 'Tue Mar25 MAR.m4a'\n",
      "Reached approximately 2702 seconds in 'Tue Mar25 MAR.m4a'\n",
      "Reached approximately 3000 seconds in 'Tue Mar25 MAR.m4a'\n",
      "Reached approximately 3300 seconds in 'Tue Mar25 MAR.m4a'\n",
      "Reached approximately 3600 seconds in 'Tue Mar25 MAR.m4a'\n",
      "Reached approximately 3900 seconds in 'Tue Mar25 MAR.m4a'\n",
      "Transcription saved to: /Volumes/HezeSamsung/Lectures/MAR/Rec/Tue Mar25 MAR.txt\n"
     ]
    }
   ],
   "source": [
    "import os\n",
    "import mlx_whisper\n",
    "\n",
    "# --- Configuration ---\n",
    "AUDIO_FOLDER = '/Volumes/HezeSamsung/Lectures/MAR/Rec'\n",
    "# saves in the same folder as the audio file\n",
    "AUDIO_EXTENSIONS = [\".wav\", \".mp3\", \".flac\", \".ogg\", \".m4a\"]\n",
    "PROGRESS_INTERVAL = 300\n",
    "# Model repository identifier from Hugging Face.\n",
    "MODEL_ID = \"mlx-community/whisper-large-v3-turbo\"\n",
    "# ----------------------\n",
    "\n",
    "def is_audio_file(filename: str) -> bool:\n",
    "    \"\"\"Check if a file is an audio file based on its extension.\"\"\"\n",
    "    return any(filename.lower().endswith(ext) for ext in AUDIO_EXTENSIONS)\n",
    "\n",
    "# Process each audio file in the folder.\n",
    "for filename in os.listdir(AUDIO_FOLDER):\n",
    "    if is_audio_file(filename):\n",
    "        audio_path = os.path.join(AUDIO_FOLDER, filename)\n",
    "        base_name = os.path.splitext(filename)[0]\n",
    "        output_file = os.path.join(AUDIO_FOLDER, base_name + \".txt\")\n",
    "        \n",
    "        print(f\"\\nProcessing file: {audio_path}\")\n",
    "        \n",
    "        # Transcribe the entire audio file using mlx_whisper.\n",
    "        result = mlx_whisper.transcribe(\n",
    "            audio_path,\n",
    "            path_or_hf_repo=MODEL_ID\n",
    "        )\n",
    "        \n",
    "        # Use the full transcript from the \"text\" key.\n",
    "        full_transcript = result[\"text\"]\n",
    "        \n",
    "        # Optionally, log progress based on the segments.\n",
    "        next_progress = PROGRESS_INTERVAL\n",
    "        for segment in result[\"segments\"]:\n",
    "            # Each segment is now a dictionary; access with keys.\n",
    "            if segment[\"start\"] >= next_progress:\n",
    "                print(f\"Reached approximately {int(segment['start'])} seconds in '{filename}'\")\n",
    "                next_progress += PROGRESS_INTERVAL\n",
    "        \n",
    "        # Write the full transcript to a text file.\n",
    "        with open(output_file, \"w\", encoding=\"utf-8\") as f:\n",
    "            f.write(full_transcript)\n",
    "        \n",
    "        print(f\"Transcription saved to: {output_file}\")"
   ]
  },
  {
   "cell_type": "code",
   "execution_count": null,
   "id": "4880810c-11fb-42db-a5b4-1e8f9fbe3efb",
   "metadata": {},
   "outputs": [],
   "source": []
  }
 ],
 "metadata": {
  "kernelspec": {
   "display_name": "huggingface1",
   "language": "python",
   "name": "python3"
  },
  "language_info": {
   "codemirror_mode": {
    "name": "ipython",
    "version": 3
   },
   "file_extension": ".py",
   "mimetype": "text/x-python",
   "name": "python",
   "nbconvert_exporter": "python",
   "pygments_lexer": "ipython3",
   "version": "3.11.8"
  }
 },
 "nbformat": 4,
 "nbformat_minor": 5
}
