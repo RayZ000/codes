{
 "cells": [
  {
   "cell_type": "code",
   "execution_count": null,
   "id": "3205b227-3724-4192-b120-d31ee5480143",
   "metadata": {},
   "outputs": [
    {
     "data": {
      "application/vnd.jupyter.widget-view+json": {
       "model_id": "26f896d7483a435ebe1caa3f39f7fca2",
       "version_major": 2,
       "version_minor": 0
      },
      "text/plain": [
       "Fetching 12 files:   0%|          | 0/12 [00:00<?, ?it/s]"
      ]
     },
     "metadata": {},
     "output_type": "display_data"
    },
    {
     "data": {
      "application/vnd.jupyter.widget-view+json": {
       "model_id": "1e9bf92a9a05458cbade09e43dc16fe9",
       "version_major": 2,
       "version_minor": 0
      },
      "text/plain": [
       "config.json:   0%|          | 0.00/868 [00:00<?, ?B/s]"
      ]
     },
     "metadata": {},
     "output_type": "display_data"
    },
    {
     "data": {
      "application/vnd.jupyter.widget-view+json": {
       "model_id": "1c831ab2663a416ab7dbbc69a1f73d13",
       "version_major": 2,
       "version_minor": 0
      },
      "text/plain": [
       "model.safetensors.index.json:   0%|          | 0.00/143k [00:00<?, ?B/s]"
      ]
     },
     "metadata": {},
     "output_type": "display_data"
    },
    {
     "data": {
      "application/vnd.jupyter.widget-view+json": {
       "model_id": "eb7f29237e2941c5b09e1f6e938f95b5",
       "version_major": 2,
       "version_minor": 0
      },
      "text/plain": [
       "model-00004-of-00007.safetensors:   0%|          | 0.00/5.33G [00:00<?, ?B/s]"
      ]
     },
     "metadata": {},
     "output_type": "display_data"
    },
    {
     "data": {
      "application/vnd.jupyter.widget-view+json": {
       "model_id": "4b01b0d35c3f4029ad9eb186a67baca8",
       "version_major": 2,
       "version_minor": 0
      },
      "text/plain": [
       "model-00006-of-00007.safetensors:   0%|          | 0.00/5.36G [00:00<?, ?B/s]"
      ]
     },
     "metadata": {},
     "output_type": "display_data"
    },
    {
     "data": {
      "application/vnd.jupyter.widget-view+json": {
       "model_id": "0b0ef888d3be440292289c9dcdcdde8d",
       "version_major": 2,
       "version_minor": 0
      },
      "text/plain": [
       "model-00005-of-00007.safetensors:   0%|          | 0.00/5.36G [00:00<?, ?B/s]"
      ]
     },
     "metadata": {},
     "output_type": "display_data"
    },
    {
     "data": {
      "application/vnd.jupyter.widget-view+json": {
       "model_id": "ac41d29e5a0e4050b4286528ee7611e7",
       "version_major": 2,
       "version_minor": 0
      },
      "text/plain": [
       "special_tokens_map.json:   0%|          | 0.00/485 [00:00<?, ?B/s]"
      ]
     },
     "metadata": {},
     "output_type": "display_data"
    },
    {
     "data": {
      "application/vnd.jupyter.widget-view+json": {
       "model_id": "bc237e63e194445096eb6d6058920603",
       "version_major": 2,
       "version_minor": 0
      },
      "text/plain": [
       "model-00007-of-00007.safetensors:   0%|          | 0.00/2.68G [00:00<?, ?B/s]"
      ]
     },
     "metadata": {},
     "output_type": "display_data"
    },
    {
     "data": {
      "application/vnd.jupyter.widget-view+json": {
       "model_id": "3ca7aa6b061840d9bda830acdb3ac9d8",
       "version_major": 2,
       "version_minor": 0
      },
      "text/plain": [
       "model-00002-of-00007.safetensors:   0%|          | 0.00/5.36G [00:00<?, ?B/s]"
      ]
     },
     "metadata": {},
     "output_type": "display_data"
    },
    {
     "data": {
      "application/vnd.jupyter.widget-view+json": {
       "model_id": "2cc19ea6c03f4837ae6d5d4670ea051c",
       "version_major": 2,
       "version_minor": 0
      },
      "text/plain": [
       "model-00003-of-00007.safetensors:   0%|          | 0.00/5.36G [00:00<?, ?B/s]"
      ]
     },
     "metadata": {},
     "output_type": "display_data"
    },
    {
     "data": {
      "application/vnd.jupyter.widget-view+json": {
       "model_id": "3844f448d1fe4f7288c9300841b58e76",
       "version_major": 2,
       "version_minor": 0
      },
      "text/plain": [
       "tokenizer.json:   0%|          | 0.00/11.4M [00:00<?, ?B/s]"
      ]
     },
     "metadata": {},
     "output_type": "display_data"
    },
    {
     "data": {
      "application/vnd.jupyter.widget-view+json": {
       "model_id": "4f4a046727974c5cbf11867a9eb42635",
       "version_major": 2,
       "version_minor": 0
      },
      "text/plain": [
       "model-00001-of-00007.safetensors:   0%|          | 0.00/5.34G [00:00<?, ?B/s]"
      ]
     },
     "metadata": {},
     "output_type": "display_data"
    },
    {
     "data": {
      "application/vnd.jupyter.widget-view+json": {
       "model_id": "8b36cf35cc7344f792a36842939040eb",
       "version_major": 2,
       "version_minor": 0
      },
      "text/plain": [
       "tokenizer_config.json:   0%|          | 0.00/6.76k [00:00<?, ?B/s]"
      ]
     },
     "metadata": {},
     "output_type": "display_data"
    },
    {
     "name": "stderr",
     "output_type": "stream",
     "text": [
      "Error while downloading from https://cdn-lfs-us-1.hf.co/repos/de/29/de296c5c99305923f745076ec7563c3d876bcb2eaf53a73126960c1a4b771685/4ca280dd744c3faf8bcf7c352afda095e02b8eb44964ba37920e48cc1291162e?response-content-disposition=inline%3B+filename*%3DUTF-8%27%27model-00007-of-00007.safetensors%3B+filename%3D%22model-00007-of-00007.safetensors%22%3B&Expires=1740789519&Policy=eyJTdGF0ZW1lbnQiOlt7IkNvbmRpdGlvbiI6eyJEYXRlTGVzc1RoYW4iOnsiQVdTOkVwb2NoVGltZSI6MTc0MDc4OTUxOX19LCJSZXNvdXJjZSI6Imh0dHBzOi8vY2RuLWxmcy11cy0xLmhmLmNvL3JlcG9zL2RlLzI5L2RlMjk2YzVjOTkzMDU5MjNmNzQ1MDc2ZWM3NTYzYzNkODc2YmNiMmVhZjUzYTczMTI2OTYwYzFhNGI3NzE2ODUvNGNhMjgwZGQ3NDRjM2ZhZjhiY2Y3YzM1MmFmZGEwOTVlMDJiOGViNDQ5NjRiYTM3OTIwZTQ4Y2MxMjkxMTYyZT9yZXNwb25zZS1jb250ZW50LWRpc3Bvc2l0aW9uPSoifV19&Signature=mvUCkKHlaWHRfqeAh1UwrgV2JuUW6mJI5OHq2CdEOjg5BHX-wWxtfRItWF66fj-N6M9ooE1DiAMbHT2Bm1h47JNlzBEuPGxKH6H1FhmRJ1PZsS26AXMnH7IT9LDJiLyyza96AwqeqM2BRppGic7y5ujMBeC96Xgy1W%7EyoQ2DYXJj6k66FHGDeS-lm417gvUn-up4TiFvxCZ%7Ek39A2ADeaq6-RO%7Etz3tXTRjPwnyDq4gAlZiiMKuL4a6kwHXlNoK7pF4yszrJMyFQ4nYdDyYT0yV1%7EtuKjK3wiO1bf4RYohMUBnpD6-qmwHMp1deJL14C2hMYki3AvPQE7kXQfTVABw__&Key-Pair-Id=K24J24Z295AEI9: HTTPSConnectionPool(host='cdn-lfs-us-1.hf.co', port=443): Read timed out.\n",
      "Trying to resume download...\n",
      "Error while downloading from https://cdn-lfs-us-1.hf.co/repos/de/29/de296c5c99305923f745076ec7563c3d876bcb2eaf53a73126960c1a4b771685/46ccf356869673e0c3a194d09af122669f34b05252192d005a452dc729221465?response-content-disposition=inline%3B+filename*%3DUTF-8%27%27model-00002-of-00007.safetensors%3B+filename%3D%22model-00002-of-00007.safetensors%22%3B&Expires=1740789518&Policy=eyJTdGF0ZW1lbnQiOlt7IkNvbmRpdGlvbiI6eyJEYXRlTGVzc1RoYW4iOnsiQVdTOkVwb2NoVGltZSI6MTc0MDc4OTUxOH19LCJSZXNvdXJjZSI6Imh0dHBzOi8vY2RuLWxmcy11cy0xLmhmLmNvL3JlcG9zL2RlLzI5L2RlMjk2YzVjOTkzMDU5MjNmNzQ1MDc2ZWM3NTYzYzNkODc2YmNiMmVhZjUzYTczMTI2OTYwYzFhNGI3NzE2ODUvNDZjY2YzNTY4Njk2NzNlMGMzYTE5NGQwOWFmMTIyNjY5ZjM0YjA1MjUyMTkyZDAwNWE0NTJkYzcyOTIyMTQ2NT9yZXNwb25zZS1jb250ZW50LWRpc3Bvc2l0aW9uPSoifV19&Signature=VxNevtwmywezMCCzStjZkvKOHHJgv7gE-443M98G3qXt3KrzEctAChQi-TsVTeRJ5NtUinalOzbtxFarfI%7E3DA6hgV0S%7EnhIpBfVbf6xDw-BiQvTeg2PwUXwX8poyFX%7Eao2%7EK%7Ey1gSFMQZi3H4bChptcdOp7N70w0AIDgHrv%7E2pVcLmpyOldkVhib8SvxY7Cr1JzCW6ZD4dRkAhWHAkpTzid-LZOkf8esBLk-Aqd%7EggfApFbTpopmvdaK4pBkQBzxUDtqKIwQ-ubbGrqLtFlq4nTpYxJWrqWRdYvG9evWjIym31pm0dj8trQM3kPbp%7Ep42QONMCpXiCkt8JGNtdssQ__&Key-Pair-Id=K24J24Z295AEI9: HTTPSConnectionPool(host='cdn-lfs-us-1.hf.co', port=443): Read timed out.\n",
      "Trying to resume download...\n",
      "Error while downloading from https://cdn-lfs-us-1.hf.co/repos/de/29/de296c5c99305923f745076ec7563c3d876bcb2eaf53a73126960c1a4b771685/d815c70bdcc3de4a9a71cf2f748c907455d6f8da7041cc67532e6a1ac23d5ba0?response-content-disposition=inline%3B+filename*%3DUTF-8%27%27model-00001-of-00007.safetensors%3B+filename%3D%22model-00001-of-00007.safetensors%22%3B&Expires=1740789519&Policy=eyJTdGF0ZW1lbnQiOlt7IkNvbmRpdGlvbiI6eyJEYXRlTGVzc1RoYW4iOnsiQVdTOkVwb2NoVGltZSI6MTc0MDc4OTUxOX19LCJSZXNvdXJjZSI6Imh0dHBzOi8vY2RuLWxmcy11cy0xLmhmLmNvL3JlcG9zL2RlLzI5L2RlMjk2YzVjOTkzMDU5MjNmNzQ1MDc2ZWM3NTYzYzNkODc2YmNiMmVhZjUzYTczMTI2OTYwYzFhNGI3NzE2ODUvZDgxNWM3MGJkY2MzZGU0YTlhNzFjZjJmNzQ4YzkwNzQ1NWQ2ZjhkYTcwNDFjYzY3NTMyZTZhMWFjMjNkNWJhMD9yZXNwb25zZS1jb250ZW50LWRpc3Bvc2l0aW9uPSoifV19&Signature=mSPQb0gF9XFpU%7ELVBJo2LrlYl3hrLb1gFqOkULNkvn2oF9RIC7%7ELriLNM--h7xsedPRudy53zZMYZnrlL99ns9MKC4QPgXSrUeOKVlX1nbZk4wMrqETkS%7EVIFcKcK3UnmcOfsgj4AhVbj0w6mUuPbSa2F8E9YFJQZHPIPqrL2xM6k8vKn2CM-h8MCMU%7ESBLqzF0bODtkpVbjzrzILJ%7EL3qPmQCb6TASlT82GIZIcRmbQ8lBWRtQZrHfJ8L26kvp88PdN43HLesFab54EPHSngvkI3IJye4b-N7rrYIM2lVnolZs2Trl5AEGHhxYHAMWQWvMzUjn00Dt-WMRtZzHfUg__&Key-Pair-Id=K24J24Z295AEI9: HTTPSConnectionPool(host='cdn-lfs-us-1.hf.co', port=443): Read timed out.\n",
      "Trying to resume download...\n",
      "Error while downloading from https://cdn-lfs-us-1.hf.co/repos/de/29/de296c5c99305923f745076ec7563c3d876bcb2eaf53a73126960c1a4b771685/990033ca276c01b282dd8b1ccc9090e61081299a6d59db0283b71c8b6dc387d7?response-content-disposition=inline%3B+filename*%3DUTF-8%27%27model-00003-of-00007.safetensors%3B+filename%3D%22model-00003-of-00007.safetensors%22%3B&Expires=1740789519&Policy=eyJTdGF0ZW1lbnQiOlt7IkNvbmRpdGlvbiI6eyJEYXRlTGVzc1RoYW4iOnsiQVdTOkVwb2NoVGltZSI6MTc0MDc4OTUxOX19LCJSZXNvdXJjZSI6Imh0dHBzOi8vY2RuLWxmcy11cy0xLmhmLmNvL3JlcG9zL2RlLzI5L2RlMjk2YzVjOTkzMDU5MjNmNzQ1MDc2ZWM3NTYzYzNkODc2YmNiMmVhZjUzYTczMTI2OTYwYzFhNGI3NzE2ODUvOTkwMDMzY2EyNzZjMDFiMjgyZGQ4YjFjY2M5MDkwZTYxMDgxMjk5YTZkNTlkYjAyODNiNzFjOGI2ZGMzODdkNz9yZXNwb25zZS1jb250ZW50LWRpc3Bvc2l0aW9uPSoifV19&Signature=OKYH1-IzgmnUbrJc2QkTwayLAyzFHa1Z0xwRXxnGgdtt21h6QBstGYHQcxDtEfqKbgHPPRu01eSFez8tYHK-o90I%7EdL6405Wufu2tMeyl-4pFFXt-BurF5sTJy1ka3FAIc3Z0wgPu1LX3LPH8XTHIfgwnAi2NhApC4%7EbwNNSkt435KAAvx0fFuw8Rczg43l%7ElKUHT5C34E8Opm7Dh7YMVOl6MaOFlI0xEhvj1grpiJx88ug%7Ez8S353n-lcKqIGb91CxC8JJtfUQA7ETqD9vWn7SqQgw2%7EYlpv4dWzMDODBjwGS-PBwh%7EZ%7EbnM60eNS3pCkvuuJNn2pC3qE7LPOYKug__&Key-Pair-Id=K24J24Z295AEI9: HTTPSConnectionPool(host='cdn-lfs-us-1.hf.co', port=443): Read timed out.\n",
      "Trying to resume download...\n",
      "Error while downloading from https://cdn-lfs-us-1.hf.co/repos/de/29/de296c5c99305923f745076ec7563c3d876bcb2eaf53a73126960c1a4b771685/bb207fe0caeb9bbbda7413fcb607ef3183767dc23d59355016f595f8be583334?response-content-disposition=inline%3B+filename*%3DUTF-8%27%27model-00006-of-00007.safetensors%3B+filename%3D%22model-00006-of-00007.safetensors%22%3B&Expires=1740789519&Policy=eyJTdGF0ZW1lbnQiOlt7IkNvbmRpdGlvbiI6eyJEYXRlTGVzc1RoYW4iOnsiQVdTOkVwb2NoVGltZSI6MTc0MDc4OTUxOX19LCJSZXNvdXJjZSI6Imh0dHBzOi8vY2RuLWxmcy11cy0xLmhmLmNvL3JlcG9zL2RlLzI5L2RlMjk2YzVjOTkzMDU5MjNmNzQ1MDc2ZWM3NTYzYzNkODc2YmNiMmVhZjUzYTczMTI2OTYwYzFhNGI3NzE2ODUvYmIyMDdmZTBjYWViOWJiYmRhNzQxM2ZjYjYwN2VmMzE4Mzc2N2RjMjNkNTkzNTUwMTZmNTk1ZjhiZTU4MzMzND9yZXNwb25zZS1jb250ZW50LWRpc3Bvc2l0aW9uPSoifV19&Signature=ui-Nms9IX1i3AHEPdIaJhYbD4uNXToNMxgNpCid67ypkeaJ1HVNDGvppRnQ5h4HfR3K4M%7EmXgA%7EuWfdqnuVaPDDhRozfaIRa93QMCc6uG1fxnAR5CvH42j3kT--Z-Kj9SUv%7EDQKFoO6s1XUyAwGErp2m2oGBmTqxn4yOFqHWtr%7EWzFJc%7E7i3erwieZvZEO3J-IZ79NVZoPeh9024QlrLCjLUY8j-Ba81RWfCdYvvczYrmIH2Q%7E29mJfRQwogW3Ozdji3K-K1upikzTvzmqvSkbAAx6%7ENXMKadrv528rTiGvwYTniyiRtj8PXD3oK1nlkRSs8WvnSiCLHSUPBi2xGrQ__&Key-Pair-Id=K24J24Z295AEI9: HTTPSConnectionPool(host='cdn-lfs-us-1.hf.co', port=443): Read timed out.\n",
      "Trying to resume download...\n",
      "Error while downloading from https://cdn-lfs-us-1.hf.co/repos/de/29/de296c5c99305923f745076ec7563c3d876bcb2eaf53a73126960c1a4b771685/249a979d30e0e06be0960d187ec73ba6e6b663bc72e9447e9849189dc545800f?response-content-disposition=inline%3B+filename*%3DUTF-8%27%27model-00005-of-00007.safetensors%3B+filename%3D%22model-00005-of-00007.safetensors%22%3B&Expires=1740789519&Policy=eyJTdGF0ZW1lbnQiOlt7IkNvbmRpdGlvbiI6eyJEYXRlTGVzc1RoYW4iOnsiQVdTOkVwb2NoVGltZSI6MTc0MDc4OTUxOX19LCJSZXNvdXJjZSI6Imh0dHBzOi8vY2RuLWxmcy11cy0xLmhmLmNvL3JlcG9zL2RlLzI5L2RlMjk2YzVjOTkzMDU5MjNmNzQ1MDc2ZWM3NTYzYzNkODc2YmNiMmVhZjUzYTczMTI2OTYwYzFhNGI3NzE2ODUvMjQ5YTk3OWQzMGUwZTA2YmUwOTYwZDE4N2VjNzNiYTZlNmI2NjNiYzcyZTk0NDdlOTg0OTE4OWRjNTQ1ODAwZj9yZXNwb25zZS1jb250ZW50LWRpc3Bvc2l0aW9uPSoifV19&Signature=mzeO93kKpRjrh%7Eqe2c2-itO6CCzZS8VQ8qUmKwEJ85q3hWxF3i-xGuf-1-t4HLNb37VzA4elnomHCFw6hsj8CZyBo3P24BNaih46ZOXdVwUGZw2nhnv1JJCjoh0r%7E39cO5h4DQusiLTtWTlmDbHMQCdhpYvwXfqTKudSPtM55lMwj5-Ax2tywnl2gpEZ1oqDw4HhBQtZNAlBvJZHXcnOdRKOLeqBjz7RYFvjxGeNZbPSmxLhL4SEfJNxwWSJBKbCqEF6iOtwYkwBCMl0AejT7p4OXjv4QID064MvduG9oes8Uiyff6tehfUaCVnw7JTAliXKzshW7BeMb8RWs1NUxQ__&Key-Pair-Id=K24J24Z295AEI9: HTTPSConnectionPool(host='cdn-lfs-us-1.hf.co', port=443): Read timed out.\n",
      "Trying to resume download...\n",
      "Error while downloading from https://cdn-lfs-us-1.hf.co/repos/de/29/de296c5c99305923f745076ec7563c3d876bcb2eaf53a73126960c1a4b771685/ab6e17619a87193ffddb7dcadf85bc474d5ecaaf73f564bf23cfb38584b605fe?response-content-disposition=inline%3B+filename*%3DUTF-8%27%27model-00004-of-00007.safetensors%3B+filename%3D%22model-00004-of-00007.safetensors%22%3B&Expires=1740789519&Policy=eyJTdGF0ZW1lbnQiOlt7IkNvbmRpdGlvbiI6eyJEYXRlTGVzc1RoYW4iOnsiQVdTOkVwb2NoVGltZSI6MTc0MDc4OTUxOX19LCJSZXNvdXJjZSI6Imh0dHBzOi8vY2RuLWxmcy11cy0xLmhmLmNvL3JlcG9zL2RlLzI5L2RlMjk2YzVjOTkzMDU5MjNmNzQ1MDc2ZWM3NTYzYzNkODc2YmNiMmVhZjUzYTczMTI2OTYwYzFhNGI3NzE2ODUvYWI2ZTE3NjE5YTg3MTkzZmZkZGI3ZGNhZGY4NWJjNDc0ZDVlY2FhZjczZjU2NGJmMjNjZmIzODU4NGI2MDVmZT9yZXNwb25zZS1jb250ZW50LWRpc3Bvc2l0aW9uPSoifV19&Signature=f9lsMD90vPx2wekH5HnoB%7ECbWRc75A0Gt7XxiKzKe76wY1DIKTLEMamdyuBWfeOXcB6aSvujHPq20kKhR9qZVdXpck4s-YnVebKtT%7EwAvUz9izjdFh2plAGuvi%7E07BcTz-Gm0NrijokLWKMEOeW8JNPbcZZejoIRap-317XyvVN250yz-YyXpWHbWw41yNkifX8zPo-bM-lTYEs2CrHURPvGqLjRgYERaz730U0FElt4TNiAnVSMRKs35Ow7mTQxzXuI5NZa2pVvqY7zQ%7EC9UXkHjJgL13L4fnCvEwDo%7EI%7EuY2sAxxkqbhZup7RgQi7Rb5Llfn0N5n5keYTVdcsc1g__&Key-Pair-Id=K24J24Z295AEI9: HTTPSConnectionPool(host='cdn-lfs-us-1.hf.co', port=443): Read timed out.\n",
      "Trying to resume download...\n"
     ]
    },
    {
     "data": {
      "application/vnd.jupyter.widget-view+json": {
       "model_id": "924a339fed5e4535a9ff72bbda0150be",
       "version_major": 2,
       "version_minor": 0
      },
      "text/plain": [
       "model-00002-of-00007.safetensors:   8%|8         | 440M/5.36G [00:00<?, ?B/s]"
      ]
     },
     "metadata": {},
     "output_type": "display_data"
    },
    {
     "data": {
      "application/vnd.jupyter.widget-view+json": {
       "model_id": "2986edf12303439993198dbfd3058681",
       "version_major": 2,
       "version_minor": 0
      },
      "text/plain": [
       "model-00007-of-00007.safetensors:   7%|6         | 178M/2.68G [00:00<?, ?B/s]"
      ]
     },
     "metadata": {},
     "output_type": "display_data"
    },
    {
     "data": {
      "application/vnd.jupyter.widget-view+json": {
       "model_id": "15c6dad9c5f1425da48d9485b9cbbb0d",
       "version_major": 2,
       "version_minor": 0
      },
      "text/plain": [
       "model-00004-of-00007.safetensors:   9%|9         | 482M/5.33G [00:00<?, ?B/s]"
      ]
     },
     "metadata": {},
     "output_type": "display_data"
    },
    {
     "data": {
      "application/vnd.jupyter.widget-view+json": {
       "model_id": "95457a7036e746d7b6431cb521259612",
       "version_major": 2,
       "version_minor": 0
      },
      "text/plain": [
       "model-00005-of-00007.safetensors:   7%|7         | 388M/5.36G [00:00<?, ?B/s]"
      ]
     },
     "metadata": {},
     "output_type": "display_data"
    },
    {
     "data": {
      "application/vnd.jupyter.widget-view+json": {
       "model_id": "c35e4471efa6453aa152cc9f7196f5a3",
       "version_major": 2,
       "version_minor": 0
      },
      "text/plain": [
       "model-00006-of-00007.safetensors:   8%|8         | 451M/5.36G [00:00<?, ?B/s]"
      ]
     },
     "metadata": {},
     "output_type": "display_data"
    },
    {
     "data": {
      "application/vnd.jupyter.widget-view+json": {
       "model_id": "9c570058b96a44a3a6742287b1f36be0",
       "version_major": 2,
       "version_minor": 0
      },
      "text/plain": [
       "model-00003-of-00007.safetensors:   6%|5         | 315M/5.36G [00:00<?, ?B/s]"
      ]
     },
     "metadata": {},
     "output_type": "display_data"
    },
    {
     "data": {
      "application/vnd.jupyter.widget-view+json": {
       "model_id": "5f809ba45ce24963a36d2ae1b7233430",
       "version_major": 2,
       "version_minor": 0
      },
      "text/plain": [
       "model-00001-of-00007.safetensors:   7%|7         | 377M/5.34G [00:00<?, ?B/s]"
      ]
     },
     "metadata": {},
     "output_type": "display_data"
    },
    {
     "name": "stderr",
     "output_type": "stream",
     "text": [
      "Error while downloading from https://cdn-lfs-us-1.hf.co/repos/de/29/de296c5c99305923f745076ec7563c3d876bcb2eaf53a73126960c1a4b771685/990033ca276c01b282dd8b1ccc9090e61081299a6d59db0283b71c8b6dc387d7?response-content-disposition=inline%3B+filename*%3DUTF-8%27%27model-00003-of-00007.safetensors%3B+filename%3D%22model-00003-of-00007.safetensors%22%3B&Expires=1740789519&Policy=eyJTdGF0ZW1lbnQiOlt7IkNvbmRpdGlvbiI6eyJEYXRlTGVzc1RoYW4iOnsiQVdTOkVwb2NoVGltZSI6MTc0MDc4OTUxOX19LCJSZXNvdXJjZSI6Imh0dHBzOi8vY2RuLWxmcy11cy0xLmhmLmNvL3JlcG9zL2RlLzI5L2RlMjk2YzVjOTkzMDU5MjNmNzQ1MDc2ZWM3NTYzYzNkODc2YmNiMmVhZjUzYTczMTI2OTYwYzFhNGI3NzE2ODUvOTkwMDMzY2EyNzZjMDFiMjgyZGQ4YjFjY2M5MDkwZTYxMDgxMjk5YTZkNTlkYjAyODNiNzFjOGI2ZGMzODdkNz9yZXNwb25zZS1jb250ZW50LWRpc3Bvc2l0aW9uPSoifV19&Signature=OKYH1-IzgmnUbrJc2QkTwayLAyzFHa1Z0xwRXxnGgdtt21h6QBstGYHQcxDtEfqKbgHPPRu01eSFez8tYHK-o90I%7EdL6405Wufu2tMeyl-4pFFXt-BurF5sTJy1ka3FAIc3Z0wgPu1LX3LPH8XTHIfgwnAi2NhApC4%7EbwNNSkt435KAAvx0fFuw8Rczg43l%7ElKUHT5C34E8Opm7Dh7YMVOl6MaOFlI0xEhvj1grpiJx88ug%7Ez8S353n-lcKqIGb91CxC8JJtfUQA7ETqD9vWn7SqQgw2%7EYlpv4dWzMDODBjwGS-PBwh%7EZ%7EbnM60eNS3pCkvuuJNn2pC3qE7LPOYKug__&Key-Pair-Id=K24J24Z295AEI9: HTTPSConnectionPool(host='cdn-lfs-us-1.hf.co', port=443): Read timed out.\n",
      "Trying to resume download...\n"
     ]
    },
    {
     "data": {
      "application/vnd.jupyter.widget-view+json": {
       "model_id": "6d76f6d1247944fda8f3374f9f3c8103",
       "version_major": 2,
       "version_minor": 0
      },
      "text/plain": [
       "model-00003-of-00007.safetensors:  23%|##3       | 1.26G/5.36G [00:00<?, ?B/s]"
      ]
     },
     "metadata": {},
     "output_type": "display_data"
    },
    {
     "name": "stderr",
     "output_type": "stream",
     "text": [
      "Error while downloading from https://cdn-lfs-us-1.hf.co/repos/de/29/de296c5c99305923f745076ec7563c3d876bcb2eaf53a73126960c1a4b771685/d815c70bdcc3de4a9a71cf2f748c907455d6f8da7041cc67532e6a1ac23d5ba0?response-content-disposition=inline%3B+filename*%3DUTF-8%27%27model-00001-of-00007.safetensors%3B+filename%3D%22model-00001-of-00007.safetensors%22%3B&Expires=1740789519&Policy=eyJTdGF0ZW1lbnQiOlt7IkNvbmRpdGlvbiI6eyJEYXRlTGVzc1RoYW4iOnsiQVdTOkVwb2NoVGltZSI6MTc0MDc4OTUxOX19LCJSZXNvdXJjZSI6Imh0dHBzOi8vY2RuLWxmcy11cy0xLmhmLmNvL3JlcG9zL2RlLzI5L2RlMjk2YzVjOTkzMDU5MjNmNzQ1MDc2ZWM3NTYzYzNkODc2YmNiMmVhZjUzYTczMTI2OTYwYzFhNGI3NzE2ODUvZDgxNWM3MGJkY2MzZGU0YTlhNzFjZjJmNzQ4YzkwNzQ1NWQ2ZjhkYTcwNDFjYzY3NTMyZTZhMWFjMjNkNWJhMD9yZXNwb25zZS1jb250ZW50LWRpc3Bvc2l0aW9uPSoifV19&Signature=mSPQb0gF9XFpU%7ELVBJo2LrlYl3hrLb1gFqOkULNkvn2oF9RIC7%7ELriLNM--h7xsedPRudy53zZMYZnrlL99ns9MKC4QPgXSrUeOKVlX1nbZk4wMrqETkS%7EVIFcKcK3UnmcOfsgj4AhVbj0w6mUuPbSa2F8E9YFJQZHPIPqrL2xM6k8vKn2CM-h8MCMU%7ESBLqzF0bODtkpVbjzrzILJ%7EL3qPmQCb6TASlT82GIZIcRmbQ8lBWRtQZrHfJ8L26kvp88PdN43HLesFab54EPHSngvkI3IJye4b-N7rrYIM2lVnolZs2Trl5AEGHhxYHAMWQWvMzUjn00Dt-WMRtZzHfUg__&Key-Pair-Id=K24J24Z295AEI9: HTTPSConnectionPool(host='cdn-lfs-us-1.hf.co', port=443): Read timed out.\n",
      "Trying to resume download...\n"
     ]
    },
    {
     "data": {
      "application/vnd.jupyter.widget-view+json": {
       "model_id": "9bc7b2ffde6f46629db5861c7bf2223a",
       "version_major": 2,
       "version_minor": 0
      },
      "text/plain": [
       "model-00001-of-00007.safetensors:  37%|###7      | 1.98G/5.34G [00:00<?, ?B/s]"
      ]
     },
     "metadata": {},
     "output_type": "display_data"
    }
   ],
   "source": [
    "from mlx_lm import load, generate\n",
    "\n",
    "model, tokenizer = load(\"mlx-community/DeepSeek-R1-Distill-Qwen-32B-MLX-8Bit\")\n",
    "\n",
    "prompt = \"hello\"\n",
    "\n",
    "if tokenizer.chat_template is not None:\n",
    "    messages = [{\"role\": \"user\", \"content\": prompt}]\n",
    "    prompt = tokenizer.apply_chat_template(\n",
    "        messages, add_generation_prompt=True\n",
    "    )\n",
    "\n",
    "response = generate(model, tokenizer, prompt=prompt, verbose=True)\n"
   ]
  },
  {
   "cell_type": "code",
   "execution_count": null,
   "id": "415ccfdd-c9dc-460c-98a9-93b4cb74ebcb",
   "metadata": {},
   "outputs": [],
   "source": []
  }
 ],
 "metadata": {
  "kernelspec": {
   "display_name": "Python 3 (ipykernel)",
   "language": "python",
   "name": "python3"
  },
  "language_info": {
   "codemirror_mode": {
    "name": "ipython",
    "version": 3
   },
   "file_extension": ".py",
   "mimetype": "text/x-python",
   "name": "python",
   "nbconvert_exporter": "python",
   "pygments_lexer": "ipython3",
   "version": "3.11.8"
  }
 },
 "nbformat": 4,
 "nbformat_minor": 5
}
